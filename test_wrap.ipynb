{
 "cells": [
  {
   "cell_type": "code",
   "execution_count": 1,
   "metadata": {},
   "outputs": [],
   "source": [
    "import torch.nn as nn\n",
    "import torch\n",
    "import zenkai\n",
    "\n",
    "import zenkai.kikai._wrap as wrap\n",
    "\n"
   ]
  },
  {
   "cell_type": "code",
   "execution_count": 4,
   "metadata": {},
   "outputs": [
    {
     "name": "stdout",
     "output_type": "stream",
     "text": [
      "<torch.autograd.function.ExecBackward object at 0x16d3fc740>\n",
      "tensor([[-0.1275,  0.1329],\n",
      "        [-0.0837,  0.0726],\n",
      "        [-0.0837,  0.0329],\n",
      "        [-0.0947,  0.0697]])\n"
     ]
    }
   ],
   "source": [
    "torch.manual_seed(1)\n",
    "base = nn.Linear(2, 2)\n",
    "wrapped = wrap.CriterionNNWrap(\n",
    "    base, zenkai.ThLoss('MSELoss'), to_step_x=False\n",
    ")\n",
    "\n",
    "x = torch.randn(4, 2)\n",
    "y = wrapped(x)\n",
    "\n",
    "print(y.grad_fn)\n",
    "(torch.rand(4, 2) - y).pow(2).mean().backward()"
   ]
  }
 ],
 "metadata": {
  "kernelspec": {
   "display_name": "py310torch",
   "language": "python",
   "name": "python3"
  },
  "language_info": {
   "codemirror_mode": {
    "name": "ipython",
    "version": 3
   },
   "file_extension": ".py",
   "mimetype": "text/x-python",
   "name": "python",
   "nbconvert_exporter": "python",
   "pygments_lexer": "ipython3",
   "version": "3.10.5"
  }
 },
 "nbformat": 4,
 "nbformat_minor": 2
}
