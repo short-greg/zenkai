{
 "cells": [
  {
   "cell_type": "code",
   "execution_count": 1,
   "metadata": {},
   "outputs": [],
   "source": [
    "from zenkai.utils._memory import BatchMemory\n",
    "import torch\n"
   ]
  },
  {
   "cell_type": "code",
   "execution_count": 2,
   "metadata": {},
   "outputs": [],
   "source": [
    "\n",
    "memory = BatchMemory(samples=['k'])"
   ]
  },
  {
   "cell_type": "code",
   "execution_count": 3,
   "metadata": {},
   "outputs": [
    {
     "data": {
      "text/plain": [
       "0"
      ]
     },
     "execution_count": 3,
     "metadata": {},
     "output_type": "execute_result"
    }
   ],
   "source": [
    "len(memory)"
   ]
  },
  {
   "cell_type": "code",
   "execution_count": 4,
   "metadata": {},
   "outputs": [],
   "source": [
    "memory.add_batch(k=torch.randn(2, 2))"
   ]
  },
  {
   "cell_type": "code",
   "execution_count": 5,
   "metadata": {},
   "outputs": [
    {
     "data": {
      "text/plain": [
       "2"
      ]
     },
     "execution_count": 5,
     "metadata": {},
     "output_type": "execute_result"
    }
   ],
   "source": [
    "len(memory)"
   ]
  },
  {
   "cell_type": "code",
   "execution_count": 5,
   "metadata": {},
   "outputs": [
    {
     "data": {
      "text/plain": [
       "{'k': tensor([[ 0.6430, -0.8378],\n",
       "         [-1.1317, -0.4253]])}"
      ]
     },
     "execution_count": 5,
     "metadata": {},
     "output_type": "execute_result"
    }
   ],
   "source": [
    "memory._batch_count\n",
    "memory._order\n",
    "\n",
    "memory[[0, 1]]"
   ]
  },
  {
   "cell_type": "code",
   "execution_count": 2,
   "metadata": {},
   "outputs": [
    {
     "name": "stdout",
     "output_type": "stream",
     "text": [
      "tensor([ True, False,  True,  True,  True])\n",
      "{'k': tensor([[ 1.0300e-03, -1.3375e+00],\n",
      "        [ 1.7698e+00, -1.3967e-02],\n",
      "        [ 2.0334e+00,  4.9577e-01],\n",
      "        [-1.3631e+00, -2.9630e-01]])} {'w': tensor([[[ 0.2139,  0.5839],\n",
      "         [ 2.0816, -0.6855]],\n",
      "\n",
      "        [[ 1.4469,  1.6597],\n",
      "         [ 1.2400, -0.0694]]])} tensor([0, 1, 1, 1]) 2\n",
      "torch.Size([4, 2]) tensor([1, 2])\n",
      "{'k': tensor([[ 1.7698, -0.0140],\n",
      "        [ 2.0334,  0.4958]]), 'w': tensor([[[ 1.4469,  1.6597],\n",
      "         [ 1.2400, -0.0694]],\n",
      "\n",
      "        [[ 1.4469,  1.6597],\n",
      "         [ 1.2400, -0.0694]]])}\n"
     ]
    }
   ],
   "source": [
    "memory = BatchMemory(samples=['k'], singular=['w'])\n",
    "memory.add_batch(\n",
    "    k=torch.randn(2, 2), w=torch.randn(2, 2)\n",
    ")\n",
    "memory.add_batch(\n",
    "    k=torch.randn(3, 2), w=torch.randn(2, 2)\n",
    ")\n",
    "\n",
    "memory.remove_samples([1])\n",
    "\n",
    "len(memory)\n",
    "\n",
    "print(\n",
    "    memory._samples,\n",
    "    memory._singular,\n",
    "    memory._order,\n",
    "    memory._idx\n",
    ")\n",
    "\n",
    "print(memory[1, 2])"
   ]
  }
 ],
 "metadata": {
  "kernelspec": {
   "display_name": "py310torch",
   "language": "python",
   "name": "python3"
  },
  "language_info": {
   "codemirror_mode": {
    "name": "ipython",
    "version": 3
   },
   "file_extension": ".py",
   "mimetype": "text/x-python",
   "name": "python",
   "nbconvert_exporter": "python",
   "pygments_lexer": "ipython3",
   "version": "3.10.5"
  }
 },
 "nbformat": 4,
 "nbformat_minor": 2
}
